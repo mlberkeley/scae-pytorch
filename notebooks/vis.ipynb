{
 "cells": [
  {
   "cell_type": "code",
   "execution_count": 63,
   "metadata": {},
   "outputs": [
    {
     "name": "stdout",
     "output_type": "stream",
     "text": [
      "/home/axquaris/StackedCapsuleAutoencoders\n"
     ]
    }
   ],
   "source": [
    "import torch\n",
    "import numpy as np\n",
    "import matplotlib.pyplot as plt\n",
    "import pickle\n",
    "import os\n",
    "# print(os.getcwd())\n",
    "# os.chdir('../')\n",
    "print(os.getcwd())"
   ]
  },
  {
   "cell_type": "code",
   "execution_count": 64,
   "metadata": {},
   "outputs": [],
   "source": [
    "with open('scae/save.pkl', 'rb') as input:\n",
    "    capsule = pickle.load(input)\n",
    "    rec = pickle.load(input)"
   ]
  },
  {
   "cell_type": "code",
   "execution_count": 65,
   "metadata": {},
   "outputs": [
    {
     "name": "stdout",
     "output_type": "stream",
     "text": [
      "dict_keys(['poses', 'features', 'presences', 'presence_logits', 'img_embedding'])\n",
      "dict_keys(['raw_templates', 'mixture_means', 'mixture_logits', 'pdf'])\n"
     ]
    }
   ],
   "source": [
    "print(capsule.keys())\n",
    "print(rec.keys())"
   ]
  },
  {
   "cell_type": "code",
   "execution_count": 83,
   "metadata": {},
   "outputs": [],
   "source": [
    "import colorsys\n",
    "colors = []\n",
    "num_templates = rec.raw_templates.shape[0]\n",
    "for idx in range(num_templates):\n",
    "    h = idx / num_templates\n",
    "    colors.append(colorsys.hsv_to_rgb(h,1,1))\n",
    "colors = torch.tensor(colors).unsqueeze(-1).unsqueeze(-1).cuda()"
   ]
  },
  {
   "cell_type": "code",
   "execution_count": 116,
   "metadata": {},
   "outputs": [
    {
     "name": "stdout",
     "output_type": "stream",
     "text": [
      "colors: torch.Size([16, 3, 1, 1])\n",
      "raw_templates: torch.Size([16, 1, 11, 11])\n",
      "tts: torch.Size([500, 17, 1, 40, 40])\n",
      "mixture_logits: torch.Size([500, 17, 1, 40, 40])\n"
     ]
    }
   ],
   "source": [
    "batch_idx = 0\n",
    "\n",
    "print('colors:', colors.shape)\n",
    "print('raw_templates:', rec.raw_templates.shape)\n",
    "\n",
    "colored_templates = colors * rec.raw_templates\n",
    "template_grid = colored_templates.reshape(4, 4, 3, 11, 11).permute(0, 1, 3, 4, 2).cpu().detach().numpy()\n",
    "\n",
    "print('tts:', rec.mixture_means.shape)\n",
    "\n",
    "colored_tts = colors * rec.mixture_means[batch_idx][:-1]\n",
    "tt_grid = colored_tts.reshape(4, 4, 3, 40, 40).permute(0, 1, 3, 4, 2).cpu().detach().numpy()\n",
    "\n",
    "print('mixture_logits:', rec.mixture_logits.shape)\n",
    "\n",
    "composed_tts = torch.zeros(40, 40, 3)\n",
    "color_tts = colored_tts.permute(0, 2, 3, 1).cpu().detach()\n",
    "pres, _ = rec.pdf.mixing_prob[batch_idx, :-1].exp().max(dim=1)\n",
    "pres = pres.cpu().detach()\n",
    "\n",
    "for idx, tt in enumerate(color_tts):\n",
    "    for i in range(40):\n",
    "        for j in range(40):\n",
    "            if torch.norm(composed_tts[i][j]) < torch.norm(tt[i][j]* pres[idx][i][j]) :\n",
    "                composed_tts[i][j] = tt[i][j] * pres[idx][i][j]\n",
    "composed_tts = composed_tts.numpy()"
   ]
  },
  {
   "cell_type": "code",
   "execution_count": 106,
   "metadata": {},
   "outputs": [
    {
     "data": {
      "text/plain": [
       "torch.Size([500, 17, 1, 40, 40])"
      ]
     },
     "execution_count": 106,
     "metadata": {},
     "output_type": "execute_result"
    }
   ],
   "source": [
    "rec.pdf.mixing_prob.shape"
   ]
  },
  {
   "cell_type": "code",
   "execution_count": 95,
   "metadata": {},
   "outputs": [],
   "source": [
    "def grid(X):\n",
    "    plt.figure()\n",
    "    num_plot = 4\n",
    "    fig, ax = plt.subplots(num_plot, num_plot)\n",
    "    for i in range(num_plot):\n",
    "        for j in range(num_plot):\n",
    "            idx = np.random.randint(0, X.shape[0])\n",
    "            ax[i, j].imshow(X[i][j])\n",
    "            ax[i, j].get_xaxis().set_visible(False)\n",
    "            ax[i, j].get_yaxis().set_visible(False)\n",
    "    fig.subplots_adjust(hspace=.1)  # No horizontal space between subplots\n",
    "    fig.subplots_adjust(wspace=-.65)\n",
    "    fig.show()"
   ]
  },
  {
   "cell_type": "code",
   "execution_count": 117,
   "metadata": {},
   "outputs": [
    {
     "name": "stderr",
     "output_type": "stream",
     "text": [
      "Clipping input data to the valid range for imshow with RGB data ([0..1] for floats or [0..255] for integers).\n",
      "Clipping input data to the valid range for imshow with RGB data ([0..1] for floats or [0..255] for integers).\n",
      "Clipping input data to the valid range for imshow with RGB data ([0..1] for floats or [0..255] for integers).\n",
      "Clipping input data to the valid range for imshow with RGB data ([0..1] for floats or [0..255] for integers).\n",
      "Clipping input data to the valid range for imshow with RGB data ([0..1] for floats or [0..255] for integers).\n",
      "Clipping input data to the valid range for imshow with RGB data ([0..1] for floats or [0..255] for integers).\n",
      "Clipping input data to the valid range for imshow with RGB data ([0..1] for floats or [0..255] for integers).\n",
      "Clipping input data to the valid range for imshow with RGB data ([0..1] for floats or [0..255] for integers).\n",
      "Clipping input data to the valid range for imshow with RGB data ([0..1] for floats or [0..255] for integers).\n",
      "Clipping input data to the valid range for imshow with RGB data ([0..1] for floats or [0..255] for integers).\n",
      "Clipping input data to the valid range for imshow with RGB data ([0..1] for floats or [0..255] for integers).\n",
      "Clipping input data to the valid range for imshow with RGB data ([0..1] for floats or [0..255] for integers).\n",
      "Clipping input data to the valid range for imshow with RGB data ([0..1] for floats or [0..255] for integers).\n",
      "Clipping input data to the valid range for imshow with RGB data ([0..1] for floats or [0..255] for integers).\n",
      "Clipping input data to the valid range for imshow with RGB data ([0..1] for floats or [0..255] for integers).\n",
      "Clipping input data to the valid range for imshow with RGB data ([0..1] for floats or [0..255] for integers).\n"
     ]
    },
    {
     "data": {
      "text/plain": [
       "<Figure size 432x288 with 0 Axes>"
      ]
     },
     "metadata": {},
     "output_type": "display_data"
    },
    {
     "data": {
      "image/png": "[encoded data removed]",
      "text/plain": [
       "<Figure size 432x288 with 16 Axes>"
      ]
     },
     "metadata": {
      "needs_background": "light"
     },
     "output_type": "display_data"
    },
    {
     "data": {
      "text/plain": [
       "<Figure size 432x288 with 0 Axes>"
      ]
     },
     "metadata": {},
     "output_type": "display_data"
    },
    {
     "data": {
      "image/png": "[encoded data removed]",
      "text/plain": [
       "<Figure size 432x288 with 16 Axes>"
      ]
     },
     "metadata": {
      "needs_background": "light"
     },
     "output_type": "display_data"
    },
    {
     "name": "stderr",
     "output_type": "stream",
     "text": [
      "Clipping input data to the valid range for imshow with RGB data ([0..1] for floats or [0..255] for integers).\n"
     ]
    },
    {
     "data": {
      "image/png": "[encoded data removed]",
      "text/plain": [
       "<Figure size 432x288 with 1 Axes>"
      ]
     },
     "metadata": {
      "needs_background": "light"
     },
     "output_type": "display_data"
    },
    {
     "data": {
      "text/plain": [
       "(-0.5, 39.5, 39.5, -0.5)"
      ]
     },
     "execution_count": 117,
     "metadata": {},
     "output_type": "execute_result"
    },
    {
     "data": {
      "image/png": "[encoded data removed]",
      "text/plain": [
       "<Figure size 432x288 with 1 Axes>"
      ]
     },
     "metadata": {
      "needs_background": "light"
     },
     "output_type": "display_data"
    }
   ],
   "source": [
    "grid(template_grid)\n",
    "grid(tt_grid)\n",
    "plt.show()\n",
    "\n",
    "plt.imshow(composed_tts)\n",
    "plt.axis('off')\n",
    "plt.show()\n",
    "\n",
    "plt.imshow(rec.pdf.mean(batch_idx).permute(1,2,0).detach().cpu(), cmap='gray')\n",
    "plt.axis('off')"
   ]
  },
  {
   "cell_type": "code",
   "execution_count": null,
   "metadata": {},
   "outputs": [],
   "source": []
  }
 ],
 "metadata": {
  "kernelspec": {
   "display_name": "Python 3",
   "language": "python",
   "name": "python3"
  },
  "language_info": {
   "codemirror_mode": {
    "name": "ipython",
    "version": 3
   },
   "file_extension": ".py",
   "mimetype": "text/x-python",
   "name": "python",
   "nbconvert_exporter": "python",
   "pygments_lexer": "ipython3",
   "version": "3.7.8"
  }
 },
 "nbformat": 4,
 "nbformat_minor": 4
}
